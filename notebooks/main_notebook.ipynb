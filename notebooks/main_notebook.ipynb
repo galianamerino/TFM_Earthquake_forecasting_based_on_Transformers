{
 "cells": [
  {
   "cell_type": "markdown",
   "id": "a4d49128-a8a3-4182-b5f1-eb1878a37018",
   "metadata": {},
   "source": [
    "# NOTEBOOK PRINCIPAL\n",
    "\n",
    "### Desde este Notebook principal de Jupyter se llama al resto de Notebooks\n",
    "Todos los Notebooks que comprenden el TFM se pueden ejecutar de forma individual o se pueden llamar de forma automática y secuencial desde este Notebook principal"
   ]
  },
  {
   "cell_type": "code",
   "execution_count": 2,
   "id": "b6303866-aeca-49c6-a0c1-5ea54c2ba3ba",
   "metadata": {},
   "outputs": [
    {
     "name": "stdout",
     "output_type": "stream",
     "text": [
      "Collecting papermill\n",
      "  Downloading papermill-2.6.0-py3-none-any.whl.metadata (13 kB)\n",
      "Requirement already satisfied: click in /opt/anaconda3/lib/python3.12/site-packages (from papermill) (8.1.8)\n",
      "Requirement already satisfied: pyyaml in /opt/anaconda3/lib/python3.12/site-packages (from papermill) (6.0.2)\n",
      "Requirement already satisfied: nbformat>=5.2.0 in /opt/anaconda3/lib/python3.12/site-packages (from papermill) (5.10.4)\n",
      "Requirement already satisfied: nbclient>=0.2.0 in /opt/anaconda3/lib/python3.12/site-packages (from papermill) (0.10.2)\n",
      "Requirement already satisfied: tqdm>=4.32.2 in /opt/anaconda3/lib/python3.12/site-packages (from papermill) (4.67.1)\n",
      "Requirement already satisfied: requests in /opt/anaconda3/lib/python3.12/site-packages (from papermill) (2.32.3)\n",
      "Requirement already satisfied: entrypoints in /opt/anaconda3/lib/python3.12/site-packages (from papermill) (0.4)\n",
      "Requirement already satisfied: tenacity>=5.0.2 in /opt/anaconda3/lib/python3.12/site-packages (from papermill) (9.0.0)\n",
      "Collecting ansicolors (from papermill)\n",
      "  Downloading ansicolors-1.1.8-py2.py3-none-any.whl.metadata (9.0 kB)\n",
      "Requirement already satisfied: aiohttp>=3.9.0 in /opt/anaconda3/lib/python3.12/site-packages (from papermill) (3.11.10)\n",
      "Requirement already satisfied: aiohappyeyeballs>=2.3.0 in /opt/anaconda3/lib/python3.12/site-packages (from aiohttp>=3.9.0->papermill) (2.4.4)\n",
      "Requirement already satisfied: aiosignal>=1.1.2 in /opt/anaconda3/lib/python3.12/site-packages (from aiohttp>=3.9.0->papermill) (1.2.0)\n",
      "Requirement already satisfied: attrs>=17.3.0 in /opt/anaconda3/lib/python3.12/site-packages (from aiohttp>=3.9.0->papermill) (24.3.0)\n",
      "Requirement already satisfied: frozenlist>=1.1.1 in /opt/anaconda3/lib/python3.12/site-packages (from aiohttp>=3.9.0->papermill) (1.5.0)\n",
      "Requirement already satisfied: multidict<7.0,>=4.5 in /opt/anaconda3/lib/python3.12/site-packages (from aiohttp>=3.9.0->papermill) (6.1.0)\n",
      "Requirement already satisfied: propcache>=0.2.0 in /opt/anaconda3/lib/python3.12/site-packages (from aiohttp>=3.9.0->papermill) (0.3.1)\n",
      "Requirement already satisfied: yarl<2.0,>=1.17.0 in /opt/anaconda3/lib/python3.12/site-packages (from aiohttp>=3.9.0->papermill) (1.18.0)\n",
      "Requirement already satisfied: idna>=2.0 in /opt/anaconda3/lib/python3.12/site-packages (from yarl<2.0,>=1.17.0->aiohttp>=3.9.0->papermill) (3.7)\n",
      "Requirement already satisfied: jupyter-client>=6.1.12 in /opt/anaconda3/lib/python3.12/site-packages (from nbclient>=0.2.0->papermill) (8.6.3)\n",
      "Requirement already satisfied: jupyter-core!=5.0.*,>=4.12 in /opt/anaconda3/lib/python3.12/site-packages (from nbclient>=0.2.0->papermill) (5.7.2)\n",
      "Requirement already satisfied: traitlets>=5.4 in /opt/anaconda3/lib/python3.12/site-packages (from nbclient>=0.2.0->papermill) (5.14.3)\n",
      "Requirement already satisfied: python-dateutil>=2.8.2 in /opt/anaconda3/lib/python3.12/site-packages (from jupyter-client>=6.1.12->nbclient>=0.2.0->papermill) (2.9.0.post0)\n",
      "Requirement already satisfied: pyzmq>=23.0 in /opt/anaconda3/lib/python3.12/site-packages (from jupyter-client>=6.1.12->nbclient>=0.2.0->papermill) (26.2.0)\n",
      "Requirement already satisfied: tornado>=6.2 in /opt/anaconda3/lib/python3.12/site-packages (from jupyter-client>=6.1.12->nbclient>=0.2.0->papermill) (6.5.1)\n",
      "Requirement already satisfied: platformdirs>=2.5 in /opt/anaconda3/lib/python3.12/site-packages (from jupyter-core!=5.0.*,>=4.12->nbclient>=0.2.0->papermill) (4.3.7)\n",
      "Requirement already satisfied: fastjsonschema>=2.15 in /opt/anaconda3/lib/python3.12/site-packages (from nbformat>=5.2.0->papermill) (2.20.0)\n",
      "Requirement already satisfied: jsonschema>=2.6 in /opt/anaconda3/lib/python3.12/site-packages (from nbformat>=5.2.0->papermill) (4.23.0)\n",
      "Requirement already satisfied: jsonschema-specifications>=2023.03.6 in /opt/anaconda3/lib/python3.12/site-packages (from jsonschema>=2.6->nbformat>=5.2.0->papermill) (2023.7.1)\n",
      "Requirement already satisfied: referencing>=0.28.4 in /opt/anaconda3/lib/python3.12/site-packages (from jsonschema>=2.6->nbformat>=5.2.0->papermill) (0.30.2)\n",
      "Requirement already satisfied: rpds-py>=0.7.1 in /opt/anaconda3/lib/python3.12/site-packages (from jsonschema>=2.6->nbformat>=5.2.0->papermill) (0.22.3)\n",
      "Requirement already satisfied: six>=1.5 in /opt/anaconda3/lib/python3.12/site-packages (from python-dateutil>=2.8.2->jupyter-client>=6.1.12->nbclient>=0.2.0->papermill) (1.17.0)\n",
      "Requirement already satisfied: charset-normalizer<4,>=2 in /opt/anaconda3/lib/python3.12/site-packages (from requests->papermill) (3.3.2)\n",
      "Requirement already satisfied: urllib3<3,>=1.21.1 in /opt/anaconda3/lib/python3.12/site-packages (from requests->papermill) (1.26.20)\n",
      "Requirement already satisfied: certifi>=2017.4.17 in /opt/anaconda3/lib/python3.12/site-packages (from requests->papermill) (2025.4.26)\n",
      "Downloading papermill-2.6.0-py3-none-any.whl (38 kB)\n",
      "Downloading ansicolors-1.1.8-py2.py3-none-any.whl (13 kB)\n",
      "Installing collected packages: ansicolors, papermill\n",
      "\u001b[2K   \u001b[90m━━━━━━━━━━━━━━━━━━━━━━━━━━━━━━━━━━━━━━━━\u001b[0m \u001b[32m2/2\u001b[0m [papermill]\n",
      "\u001b[1A\u001b[2KSuccessfully installed ansicolors-1.1.8 papermill-2.6.0\n"
     ]
    }
   ],
   "source": [
    "!pip install papermill"
   ]
  },
  {
   "cell_type": "code",
   "execution_count": 7,
   "id": "f34cfd6e-3766-4331-82a8-d6a5718444fb",
   "metadata": {},
   "outputs": [
    {
     "name": "stdout",
     "output_type": "stream",
     "text": [
      "Available kernels:\n",
      "  miar_rl      /Users/juanjo/Library/Jupyter/kernels/miar_rl\n",
      "  rl_m1_env    /Users/juanjo/Library/Jupyter/kernels/rl_m1_env\n",
      "  python3      /opt/anaconda3/share/jupyter/kernels/python3\n"
     ]
    }
   ],
   "source": [
    "!jupyter kernelspec list"
   ]
  },
  {
   "cell_type": "code",
   "execution_count": 2,
   "id": "ab6e5a58-dea3-4ced-a5e9-1fe972b09633",
   "metadata": {},
   "outputs": [
    {
     "name": "stdout",
     "output_type": "stream",
     "text": [
      "\n",
      "🔹 Procesando zona 31...\n",
      "   ➡ Ejecutando 4_Vector_objetivo.ipynb para zona 31...\n"
     ]
    },
    {
     "data": {
      "application/vnd.jupyter.widget-view+json": {
       "model_id": "3a264b4fc7db4271bed3dce0ccfc5a58",
       "version_major": 2,
       "version_minor": 0
      },
      "text/plain": [
       "Executing:   0%|          | 0/33 [00:00<?, ?cell/s]"
      ]
     },
     "metadata": {},
     "output_type": "display_data"
    },
    {
     "name": "stdout",
     "output_type": "stream",
     "text": [
      "✅ Zona 31 completada.\n",
      "\n",
      "🔹 Procesando zona 37...\n",
      "   ➡ Ejecutando 4_Vector_objetivo.ipynb para zona 37...\n"
     ]
    },
    {
     "data": {
      "application/vnd.jupyter.widget-view+json": {
       "model_id": "02cb41a784fc44efba510dfcc21496ae",
       "version_major": 2,
       "version_minor": 0
      },
      "text/plain": [
       "Executing:   0%|          | 0/33 [00:00<?, ?cell/s]"
      ]
     },
     "metadata": {},
     "output_type": "display_data"
    },
    {
     "name": "stdout",
     "output_type": "stream",
     "text": [
      "✅ Zona 37 completada.\n",
      "\n",
      "🔹 Procesando zona 39...\n",
      "   ➡ Ejecutando 4_Vector_objetivo.ipynb para zona 39...\n"
     ]
    },
    {
     "data": {
      "application/vnd.jupyter.widget-view+json": {
       "model_id": "a6c2488565e449f5982a8eb00faa17de",
       "version_major": 2,
       "version_minor": 0
      },
      "text/plain": [
       "Executing:   0%|          | 0/33 [00:00<?, ?cell/s]"
      ]
     },
     "metadata": {},
     "output_type": "display_data"
    },
    {
     "name": "stdout",
     "output_type": "stream",
     "text": [
      "✅ Zona 39 completada.\n",
      "\n",
      "🔹 Procesando zona 55...\n",
      "   ➡ Ejecutando 4_Vector_objetivo.ipynb para zona 55...\n"
     ]
    },
    {
     "data": {
      "application/vnd.jupyter.widget-view+json": {
       "model_id": "170cc9f501be4e0385315d82aff82fae",
       "version_major": 2,
       "version_minor": 0
      },
      "text/plain": [
       "Executing:   0%|          | 0/33 [00:00<?, ?cell/s]"
      ]
     },
     "metadata": {},
     "output_type": "display_data"
    },
    {
     "name": "stdout",
     "output_type": "stream",
     "text": [
      "✅ Zona 55 completada.\n"
     ]
    }
   ],
   "source": [
    "import papermill as pm\n",
    "\n",
    "# ===============================\n",
    "# 1. Definir zonas, rutas y notebooks\n",
    "# ===============================\n",
    "\n",
    "# Zonas sismogénicas\n",
    "zonas = [31, 37, 39, 55]\n",
    "\n",
    "# Rutas de los ficheros\n",
    "\n",
    "ruta = \"/Volumes/Juanjo_4TB/Disco_4T/Master_Inteligencia_Artificial/Curso_2024_25/01_Python_para_Inteligencia_Artificial/Estudio/TFM\"\n",
    "\n",
    "ruta_notebooks = ruta+\"/notebooks/\"\n",
    "\n",
    "# Lista de notebooks a ejecutar en orden\n",
    "notebooks = [\n",
    "    \"1_Preprocesado_inicial.ipynb\",\n",
    "    \"2_Analisis_estadistico.ipynb\"\n",
    "    \"3_Parametros_sismicos_entrada.ipynb\",\n",
    "    \"4_Vector_objetivo.ipynb\",\n",
    "    \"5_Vector_entrada_Transformer.ipynb\",\n",
    "    \"5_Vector_entrada_LightGBM.ipynb\",\n",
    "    \"5_Vector_entrada_RandomForest.ipynb\"\n",
    "     \n",
    "]\n",
    "\n",
    "# ===============================\n",
    "# 2. Preprocesado inicial\n",
    "# ===============================\n",
    "\n",
    "\n",
    "# Ejecutar el primer notebook: 1_Preprocesado_inicial.ipynb\n",
    "pm.execute_notebook(\n",
    "    notebooks[0],    # notebook de entrada\n",
    "    None,            # sin notebook de salida (ejecución directa)\n",
    "    parameters={\n",
    "            \"zonas\": zonas,\n",
    "            \"ruta\": ruta\n",
    "    },\n",
    "    kernel_name=\"python3\"\n",
    ")\n",
    "\n",
    "print(f\"✅ Ejecutado {notebooks[0]} para zonas: {zonas}\")\n",
    "\n",
    "\n",
    "\n",
    "# ===============================\n",
    "# 3. Bucle de ejecución\n",
    "# ===============================\n",
    "for z in zonas:\n",
    "    print(f\"\\n🔹 Procesando zona {z}...\")\n",
    "    for nb in notebooks[1:]:  # saltamos el primero\n",
    "        \n",
    "        input_nb = f\"{ruta_notebooks}{nb}\"\n",
    "        output_nb = f\"{ruta_notebooks}{nb.replace('.ipynb', f'_zona_{z}.ipynb')}\"\n",
    "\n",
    "                        \n",
    "        print(f\"   ➡ Ejecutando {nb} para zona {z}...\")\n",
    "\n",
    "        pm.execute_notebook(\n",
    "            input_nb,         # notebook de entrada\n",
    "            output_nb,        # notebook de salida\n",
    "            \n",
    "            parameters={\n",
    "                    \"zona\": z,\n",
    "                    \"ruta\": ruta\n",
    "            },\n",
    "            kernel_name=\"python3\"\n",
    "                    \n",
    "        )\n",
    "    print(f\"✅ Zona {z} completada.\")\n"
   ]
  },
  {
   "cell_type": "code",
   "execution_count": null,
   "id": "de6c2a61-9057-4205-b7bd-e0bd7f22568e",
   "metadata": {},
   "outputs": [],
   "source": []
  },
  {
   "cell_type": "code",
   "execution_count": null,
   "id": "3fd63dfa-41aa-4000-b322-477bed4907b6",
   "metadata": {},
   "outputs": [],
   "source": []
  }
 ],
 "metadata": {
  "kernelspec": {
   "display_name": "Python [conda env:base] *",
   "language": "python",
   "name": "conda-base-py"
  },
  "language_info": {
   "codemirror_mode": {
    "name": "ipython",
    "version": 3
   },
   "file_extension": ".py",
   "mimetype": "text/x-python",
   "name": "python",
   "nbconvert_exporter": "python",
   "pygments_lexer": "ipython3",
   "version": "3.12.4"
  }
 },
 "nbformat": 4,
 "nbformat_minor": 5
}
