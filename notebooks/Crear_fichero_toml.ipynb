{
 "cells": [
  {
   "cell_type": "code",
   "execution_count": 2,
   "id": "d4aca490-64cf-411b-9d9e-323fa087edec",
   "metadata": {},
   "outputs": [
    {
     "name": "stdout",
     "output_type": "stream",
     "text": [
      "Overwriting pyproject.toml\n"
     ]
    }
   ],
   "source": [
    "%%writefile pyproject.toml\n",
    "[build-system]\n",
    "requires = [\"setuptools\"]\n",
    "build-backend = \"setuptools.build_meta\"\n",
    "\n",
    "[project]\n",
    "name = \"TFM Inteligencia Artificial\"\n",
    "version = \"0.1.0\"\n",
    "description = \"Pronóstico de terremotoso (OEF)\"\n",
    "authors = [\n",
    "    { name = \"Juan José Galiana Merino\", email = \"jj.galiana@ua.es\" }\n",
    "]\n",
    "dependencies = [\n",
    "    \"pandas\",\n",
    "    \"geopandas\",\n",
    "    \"matplotlib\",\n",
    "    \"numpy\",\n",
    "]\n",
    "requires-python = \">=3.9\""
   ]
  },
  {
   "cell_type": "code",
   "execution_count": null,
   "id": "8a2c4aaf-0add-4ae8-97d5-09eac9b88e03",
   "metadata": {},
   "outputs": [],
   "source": []
  }
 ],
 "metadata": {
  "kernelspec": {
   "display_name": "Python [conda env:base] *",
   "language": "python",
   "name": "conda-base-py"
  },
  "language_info": {
   "codemirror_mode": {
    "name": "ipython",
    "version": 3
   },
   "file_extension": ".py",
   "mimetype": "text/x-python",
   "name": "python",
   "nbconvert_exporter": "python",
   "pygments_lexer": "ipython3",
   "version": "3.12.4"
  }
 },
 "nbformat": 4,
 "nbformat_minor": 5
}
